{
  "nbformat": 4,
  "nbformat_minor": 0,
  "metadata": {
    "colab": {
      "provenance": [],
      "authorship_tag": "ABX9TyMGQsGhQlVC6+G6bA4rPyk4",
      "include_colab_link": true
    },
    "kernelspec": {
      "name": "python3",
      "display_name": "Python 3"
    },
    "language_info": {
      "name": "python"
    }
  },
  "cells": [
    {
      "cell_type": "markdown",
      "metadata": {
        "id": "view-in-github",
        "colab_type": "text"
      },
      "source": [
        "<a href=\"https://colab.research.google.com/github/r4gi/AI/blob/main/Untitled0.ipynb\" target=\"_parent\"><img src=\"https://colab.research.google.com/assets/colab-badge.svg\" alt=\"Open In Colab\"/></a>"
      ]
    },
    {
      "cell_type": "code",
      "execution_count": null,
      "metadata": {
        "id": "EExs0k9mylk-"
      },
      "outputs": [],
      "source": [
        "%%time\n",
        "from torch import optim\n",
        "from torchvision.datasets import CIFAR10\n",
        "from torch.utils.data import DataLoader\n",
        "import torch\n",
        "import torch.nn as nn\n",
        "import torch.nn.functional as F\n",
        "import torchvision.transforms as transforms\n",
        "\n",
        "# CIFAR10 データセットの読み込み\n",
        "cifar10_train = CIFAR10(\",/data\", train=True, download=True, transform=transforms.ToTensor())\n",
        "cifar10_test = CIFAR10(\",/data\", train=False, download=True, transform=transforms.ToTensor())\n",
        "\n",
        "# バッチサイズの設定\n",
        "batch_size = 64\n",
        "\n",
        "# データローダーの作成\n",
        "train_loader = DataLoader(cifar10_train, batch_size=batch_size, shuffle=True)\n",
        "test_loader = DataLoader(cifar10_test, batch_size=len(cifar10_test), shuffle=True)\n",
        "\n",
        "# ニューラルネットワークの定義\n",
        "class Net(nn.Module):\n",
        "  def __init__(self):\n",
        "    super(Net, self).__init__()\n",
        "    self.conv1 = nn.Conv2d(3, 6, 5)  # self.convl を self.conv1 に修正\n",
        "    self.pool = nn.MaxPool2d(2, 2)\n",
        "    self.conv2 = nn.Conv2d(6, 16, 5)\n",
        "    self.fc1 = nn.Linear(16 * 5 * 5, 256)\n",
        "    self.fc2 = nn.Linear(256, 10)\n",
        "\n",
        "  def forward(self, x):\n",
        "    x = self.pool(F.relu(self.conv1(x)))\n",
        "    x = self.pool(F.relu(self.conv2(x)))\n",
        "    x = x.view(-1, 16 * 5 * 5)\n",
        "    x = F.relu(self.fc1(x))\n",
        "    x = self.fc2(x)\n",
        "    return x\n",
        "\n",
        "# モデルのインスタンス化\n",
        "net = Net()\n",
        "\n",
        "# GPU が利用可能な場合、モデルを GPU に移動\n",
        "if torch.cuda.is_available():\n",
        "  net.cuda()\n",
        "\n",
        "# 損失関数とオプティマイザーの定義\n",
        "loss_fnc = nn.CrossEntropyLoss()\n",
        "optimizer = optim.Adam(net.parameters())\n",
        "\n",
        "# 損失の記録用リスト\n",
        "record_loss_train = []\n",
        "record_loss_test = []\n",
        "\n",
        "# テストデータの取得\n",
        "x_test, t_test = next(iter(test_loader))\n",
        "if torch.cuda.is_available():\n",
        "    x_test, t_test = x_test.cuda(), t_test.cuda()\n",
        "\n",
        "# 学習ループ\n",
        "for i in range(10):\n",
        "  net.train()\n",
        "  loss_train = 0\n",
        "  for j, (x_train, t_train) in enumerate(train_loader):\n",
        "    if torch.cuda.is_available():\n",
        "      x, t = x_train.cuda(), t_train.cuda()\n",
        "    y = net(x)\n",
        "    loss = loss_fnc(y, t)\n",
        "    loss_train += loss.item()\n",
        "    optimizer.zero_grad()\n",
        "    loss.backward()\n",
        "    optimizer.step()\n",
        "  loss_train /= j + 1\n",
        "  record_loss_train.append(loss_train)"
      ]
    }
  ]
}